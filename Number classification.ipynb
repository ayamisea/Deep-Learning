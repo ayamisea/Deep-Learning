{
 "cells": [
  {
   "cell_type": "markdown",
   "metadata": {},
   "source": [
    "# 數字分類\n",
    "每個 vector 維度的值為 0 的情況下，每個維度隨機出現某一特定數字，並將其分類為該數字 <br><br>\n",
    "舉例：10 維的 vector<br>\n",
    "[0 0 1 0 1 0 1 1 1 0]  -> 分類為 1 <br>\n",
    "[0 3 0 0 0 0 0 0 3 0]  -> 分類為 3 <br>\n",
    "[0 6 6 0 0 6 0 0 0 0]  -> 分類為 6 <br>\n",
    "依此類推 ... <br><br>\n",
    "目標：訓練1個NN，使其能做正確分類"
   ]
  },
  {
   "cell_type": "code",
   "execution_count": 162,
   "metadata": {},
   "outputs": [],
   "source": [
    "import numpy as np\n",
    "import pandas as pd\n",
    "import keras \n",
    "from keras.utils import np_utils\n",
    "import tensorflow as tf\n",
    "\n",
    "config = tf.ConfigProto(gpu_options=tf.GPUOptions(allow_growth=True))\n",
    "sess = tf.Session(config=config)"
   ]
  },
  {
   "cell_type": "code",
   "execution_count": 176,
   "metadata": {},
   "outputs": [],
   "source": [
    "# 初始化\n",
    "train_num = 50000\n",
    "data_dim = 10\n",
    "test_num = 10000\n",
    "\n",
    "\n",
    "x_Train = np.zeros((train_num,data_dim))\n",
    "y_Train = np.empty((train_num,1))\n",
    "\n",
    "x_Test = np.zeros((test_num,data_dim))\n",
    "y_Test = np.empty((test_num,1))\n",
    "\n",
    "# 產生 data\n",
    "\n",
    "\n",
    "for i in range(0,train_num):\n",
    "    arr = np.zeros(data_dim)\n",
    "    arr = np.random.choice(2,arr.size)  \n",
    "    randNum = np.random.randint(1,data_dim+1)\n",
    "    arr[arr == 1]= randNum\n",
    "    x_Train[i] = arr\n",
    "    y_Train[i] = randNum\n",
    "\n",
    "for i in range(0,test_num):\n",
    "    arr = np.zeros(data_dim)\n",
    "    arr = np.random.choice(2,arr.size)  \n",
    "    randNum = np.random.randint(1,data_dim+1)\n",
    "    arr[arr == 1]= randNum\n",
    "    x_Test[i] = arr\n",
    "    y_Test[i] = randNum\n",
    "\n",
    "# one hot encoding\n",
    "y_TrainOneHot = np_utils.to_categorical(y_Train)\n",
    "y_TestOneHot = np_utils.to_categorical(y_Test)"
   ]
  },
  {
   "cell_type": "code",
   "execution_count": 195,
   "metadata": {
    "scrolled": true
   },
   "outputs": [
    {
     "name": "stdout",
     "output_type": "stream",
     "text": [
      "[[ 8.  0.  8. ...  0.  8.  8.]\n",
      " [ 0.  6.  6. ...  0.  0.  6.]\n",
      " [ 8.  0.  8. ...  8.  0.  0.]\n",
      " ...\n",
      " [ 0.  7.  0. ...  7.  0.  0.]\n",
      " [10. 10. 10. ... 10.  0.  0.]\n",
      " [ 0.  1.  0. ...  1.  1.  0.]]\n",
      "[[0. 0. 0. ... 1. 0. 0.]\n",
      " [0. 0. 0. ... 0. 0. 0.]\n",
      " [0. 0. 0. ... 1. 0. 0.]\n",
      " ...\n",
      " [0. 0. 0. ... 0. 0. 0.]\n",
      " [0. 0. 0. ... 0. 0. 1.]\n",
      " [0. 1. 0. ... 0. 0. 0.]]\n"
     ]
    }
   ],
   "source": [
    "print(x_Train)\n",
    "print(y_TrainOneHot)"
   ]
  },
  {
   "cell_type": "code",
   "execution_count": 165,
   "metadata": {},
   "outputs": [],
   "source": [
    "from keras.models import Sequential\n",
    "from keras.layers import Dense, Dropout"
   ]
  },
  {
   "cell_type": "markdown",
   "metadata": {},
   "source": [
    "### Build Model"
   ]
  },
  {
   "cell_type": "code",
   "execution_count": 196,
   "metadata": {},
   "outputs": [],
   "source": [
    "# 建立 NN , 2 hidden layers\n",
    "model = Sequential()\n",
    "model.add(Dense(units=data_dim,activation='relu'))\n",
    "model.add(Dense(units=20,activation='relu'))\n",
    "model.add(Dense(units=11,activation='softmax'))\n",
    "model.compile(loss = 'categorical_crossentropy',optimizer='adam',metrics=['accuracy'])"
   ]
  },
  {
   "cell_type": "markdown",
   "metadata": {},
   "source": [
    "### Train model"
   ]
  },
  {
   "cell_type": "code",
   "execution_count": 188,
   "metadata": {},
   "outputs": [
    {
     "name": "stdout",
     "output_type": "stream",
     "text": [
      "Train on 40000 samples, validate on 10000 samples\n",
      "Epoch 1/100\n",
      " - 1s - loss: 2.5281 - acc: 0.1158 - val_loss: 2.2037 - val_acc: 0.1482\n",
      "Epoch 2/100\n",
      " - 1s - loss: 2.1016 - acc: 0.1936 - val_loss: 1.9897 - val_acc: 0.2571\n",
      "Epoch 3/100\n",
      " - 1s - loss: 1.8818 - acc: 0.2920 - val_loss: 1.7804 - val_acc: 0.3342\n",
      "Epoch 4/100\n",
      " - 1s - loss: 1.6794 - acc: 0.3556 - val_loss: 1.5885 - val_acc: 0.3877\n",
      "Epoch 5/100\n",
      " - 1s - loss: 1.5174 - acc: 0.4168 - val_loss: 1.4584 - val_acc: 0.4391\n",
      "Epoch 6/100\n",
      " - 1s - loss: 1.4086 - acc: 0.4578 - val_loss: 1.3619 - val_acc: 0.4865\n",
      "Epoch 7/100\n",
      " - 1s - loss: 1.3128 - acc: 0.5071 - val_loss: 1.2588 - val_acc: 0.5447\n",
      "Epoch 8/100\n",
      " - 1s - loss: 1.2071 - acc: 0.5734 - val_loss: 1.1621 - val_acc: 0.6107\n",
      "Epoch 9/100\n",
      " - 1s - loss: 1.1143 - acc: 0.6234 - val_loss: 1.0738 - val_acc: 0.6571\n",
      "Epoch 10/100\n",
      " - 1s - loss: 1.0354 - acc: 0.6601 - val_loss: 1.0085 - val_acc: 0.6664\n",
      "Epoch 11/100\n",
      " - 1s - loss: 0.9561 - acc: 0.6971 - val_loss: 0.9203 - val_acc: 0.7261\n",
      "Epoch 12/100\n",
      " - 1s - loss: 0.8826 - acc: 0.7308 - val_loss: 0.8589 - val_acc: 0.7357\n",
      "Epoch 13/100\n",
      " - 1s - loss: 0.8194 - acc: 0.7599 - val_loss: 0.7923 - val_acc: 0.8016\n",
      "Epoch 14/100\n",
      " - 1s - loss: 0.7615 - acc: 0.7858 - val_loss: 0.7410 - val_acc: 0.7972\n",
      "Epoch 15/100\n",
      " - 1s - loss: 0.7090 - acc: 0.8090 - val_loss: 0.6874 - val_acc: 0.8174\n",
      "Epoch 16/100\n",
      " - 1s - loss: 0.6631 - acc: 0.8275 - val_loss: 0.6480 - val_acc: 0.8319\n",
      "Epoch 17/100\n",
      " - 1s - loss: 0.6194 - acc: 0.8534 - val_loss: 0.6033 - val_acc: 0.8734\n",
      "Epoch 18/100\n",
      " - 1s - loss: 0.5817 - acc: 0.8670 - val_loss: 0.5734 - val_acc: 0.8591\n",
      "Epoch 19/100\n",
      " - 1s - loss: 0.5465 - acc: 0.8831 - val_loss: 0.5380 - val_acc: 0.8765\n",
      "Epoch 20/100\n",
      " - 1s - loss: 0.5146 - acc: 0.8945 - val_loss: 0.5211 - val_acc: 0.8546\n",
      "Epoch 21/100\n",
      " - 1s - loss: 0.4841 - acc: 0.9075 - val_loss: 0.4796 - val_acc: 0.9085\n",
      "Epoch 22/100\n",
      " - 1s - loss: 0.4569 - acc: 0.9159 - val_loss: 0.4517 - val_acc: 0.9146\n",
      "Epoch 23/100\n",
      " - 1s - loss: 0.4315 - acc: 0.9242 - val_loss: 0.4276 - val_acc: 0.9158\n",
      "Epoch 24/100\n",
      " - 1s - loss: 0.4073 - acc: 0.9307 - val_loss: 0.4036 - val_acc: 0.9333\n",
      "Epoch 25/100\n",
      " - 1s - loss: 0.3842 - acc: 0.9366 - val_loss: 0.3836 - val_acc: 0.9355\n",
      "Epoch 26/100\n",
      " - 1s - loss: 0.3641 - acc: 0.9380 - val_loss: 0.3640 - val_acc: 0.9403\n",
      "Epoch 27/100\n",
      " - 1s - loss: 0.3428 - acc: 0.9462 - val_loss: 0.3676 - val_acc: 0.9039\n",
      "Epoch 28/100\n",
      " - 1s - loss: 0.3245 - acc: 0.9497 - val_loss: 0.3323 - val_acc: 0.9464\n",
      "Epoch 29/100\n",
      " - 1s - loss: 0.3075 - acc: 0.9534 - val_loss: 0.3128 - val_acc: 0.9501\n",
      "Epoch 30/100\n",
      " - 1s - loss: 0.2905 - acc: 0.9578 - val_loss: 0.2960 - val_acc: 0.9572\n",
      "Epoch 31/100\n",
      " - 1s - loss: 0.2745 - acc: 0.9616 - val_loss: 0.2788 - val_acc: 0.9606\n",
      "Epoch 32/100\n",
      " - 1s - loss: 0.2584 - acc: 0.9647 - val_loss: 0.2654 - val_acc: 0.9620\n",
      "Epoch 33/100\n",
      " - 1s - loss: 0.2439 - acc: 0.9679 - val_loss: 0.2515 - val_acc: 0.9655\n",
      "Epoch 34/100\n",
      " - 1s - loss: 0.2301 - acc: 0.9706 - val_loss: 0.2377 - val_acc: 0.9677\n",
      "Epoch 35/100\n",
      " - 1s - loss: 0.2169 - acc: 0.9727 - val_loss: 0.2233 - val_acc: 0.9725\n",
      "Epoch 36/100\n",
      " - 1s - loss: 0.2045 - acc: 0.9742 - val_loss: 0.2117 - val_acc: 0.9742\n",
      "Epoch 37/100\n",
      " - 1s - loss: 0.1931 - acc: 0.9757 - val_loss: 0.2022 - val_acc: 0.9749\n",
      "Epoch 38/100\n",
      " - 1s - loss: 0.1819 - acc: 0.9778 - val_loss: 0.1908 - val_acc: 0.9772\n",
      "Epoch 39/100\n",
      " - 1s - loss: 0.1714 - acc: 0.9790 - val_loss: 0.1807 - val_acc: 0.9764\n",
      "Epoch 40/100\n",
      " - 1s - loss: 0.1626 - acc: 0.9798 - val_loss: 0.1709 - val_acc: 0.9775\n",
      "Epoch 41/100\n",
      " - 1s - loss: 0.1542 - acc: 0.9807 - val_loss: 0.1644 - val_acc: 0.9779\n",
      "Epoch 42/100\n",
      " - 1s - loss: 0.1454 - acc: 0.9816 - val_loss: 0.1543 - val_acc: 0.9800\n",
      "Epoch 43/100\n",
      " - 1s - loss: 0.1376 - acc: 0.9831 - val_loss: 0.1470 - val_acc: 0.9810\n",
      "Epoch 44/100\n",
      " - 1s - loss: 0.1300 - acc: 0.9835 - val_loss: 0.1407 - val_acc: 0.9820\n",
      "Epoch 45/100\n",
      " - 1s - loss: 0.1236 - acc: 0.9840 - val_loss: 0.1334 - val_acc: 0.9821\n",
      "Epoch 46/100\n",
      " - 1s - loss: 0.1172 - acc: 0.9839 - val_loss: 0.1269 - val_acc: 0.9832\n",
      "Epoch 47/100\n",
      " - 1s - loss: 0.1110 - acc: 0.9851 - val_loss: 0.1204 - val_acc: 0.9834\n",
      "Epoch 48/100\n",
      " - 1s - loss: 0.1057 - acc: 0.9861 - val_loss: 0.1165 - val_acc: 0.9848\n",
      "Epoch 49/100\n",
      " - 1s - loss: 0.1007 - acc: 0.9860 - val_loss: 0.1092 - val_acc: 0.9870\n",
      "Epoch 50/100\n",
      " - 1s - loss: 0.0954 - acc: 0.9871 - val_loss: 0.1046 - val_acc: 0.9862\n",
      "Epoch 51/100\n",
      " - 1s - loss: 0.0911 - acc: 0.9882 - val_loss: 0.1035 - val_acc: 0.9873\n",
      "Epoch 52/100\n",
      " - 1s - loss: 0.0874 - acc: 0.9887 - val_loss: 0.0952 - val_acc: 0.9878\n",
      "Epoch 53/100\n",
      " - 1s - loss: 0.0832 - acc: 0.9891 - val_loss: 0.0922 - val_acc: 0.9871\n",
      "Epoch 54/100\n",
      " - 1s - loss: 0.0795 - acc: 0.9892 - val_loss: 0.0881 - val_acc: 0.9888\n",
      "Epoch 55/100\n",
      " - 1s - loss: 0.0763 - acc: 0.9894 - val_loss: 0.0856 - val_acc: 0.9884\n",
      "Epoch 56/100\n",
      " - 1s - loss: 0.0733 - acc: 0.9899 - val_loss: 0.0828 - val_acc: 0.9888\n",
      "Epoch 57/100\n",
      " - 1s - loss: 0.0699 - acc: 0.9902 - val_loss: 0.0796 - val_acc: 0.9887\n",
      "Epoch 58/100\n",
      " - 1s - loss: 0.0673 - acc: 0.9905 - val_loss: 0.0756 - val_acc: 0.9890\n",
      "Epoch 59/100\n",
      " - 1s - loss: 0.0651 - acc: 0.9904 - val_loss: 0.0723 - val_acc: 0.9889\n",
      "Epoch 60/100\n",
      " - 1s - loss: 0.0625 - acc: 0.9909 - val_loss: 0.0712 - val_acc: 0.9890\n",
      "Epoch 61/100\n",
      " - 1s - loss: 0.0603 - acc: 0.9910 - val_loss: 0.0669 - val_acc: 0.9895\n",
      "Epoch 62/100\n",
      " - 1s - loss: 0.0583 - acc: 0.9911 - val_loss: 0.0652 - val_acc: 0.9900\n",
      "Epoch 63/100\n",
      " - 1s - loss: 0.0564 - acc: 0.9913 - val_loss: 0.0629 - val_acc: 0.9896\n",
      "Epoch 64/100\n",
      " - 1s - loss: 0.0543 - acc: 0.9912 - val_loss: 0.0615 - val_acc: 0.9905\n",
      "Epoch 65/100\n",
      " - 1s - loss: 0.0527 - acc: 0.9914 - val_loss: 0.0596 - val_acc: 0.9900\n",
      "Epoch 66/100\n",
      " - 1s - loss: 0.0513 - acc: 0.9910 - val_loss: 0.0571 - val_acc: 0.9905\n",
      "Epoch 67/100\n",
      " - 1s - loss: 0.0494 - acc: 0.9912 - val_loss: 0.0555 - val_acc: 0.9905\n",
      "Epoch 68/100\n",
      " - 1s - loss: 0.0480 - acc: 0.9916 - val_loss: 0.0568 - val_acc: 0.9906\n",
      "Epoch 69/100\n",
      " - 1s - loss: 0.0468 - acc: 0.9916 - val_loss: 0.0533 - val_acc: 0.9907\n",
      "Epoch 70/100\n",
      " - 1s - loss: 0.0449 - acc: 0.9919 - val_loss: 0.0518 - val_acc: 0.9908\n",
      "Epoch 71/100\n",
      " - 1s - loss: 0.0437 - acc: 0.9919 - val_loss: 0.0493 - val_acc: 0.9907\n",
      "Epoch 72/100\n",
      " - 1s - loss: 0.0428 - acc: 0.9919 - val_loss: 0.0476 - val_acc: 0.9905\n",
      "Epoch 73/100\n",
      " - 1s - loss: 0.0419 - acc: 0.9920 - val_loss: 0.0469 - val_acc: 0.9903\n",
      "Epoch 74/100\n",
      " - 1s - loss: 0.0404 - acc: 0.9919 - val_loss: 0.0460 - val_acc: 0.9910\n",
      "Epoch 75/100\n",
      " - 1s - loss: 0.0393 - acc: 0.9921 - val_loss: 0.0445 - val_acc: 0.9913\n",
      "Epoch 76/100\n",
      " - 1s - loss: 0.0385 - acc: 0.9921 - val_loss: 0.0433 - val_acc: 0.9915\n",
      "Epoch 77/100\n",
      " - 1s - loss: 0.0375 - acc: 0.9924 - val_loss: 0.0418 - val_acc: 0.9916\n",
      "Epoch 78/100\n",
      " - 1s - loss: 0.0365 - acc: 0.9922 - val_loss: 0.0405 - val_acc: 0.9917\n",
      "Epoch 79/100\n",
      " - 1s - loss: 0.0354 - acc: 0.9924 - val_loss: 0.0390 - val_acc: 0.9920\n",
      "Epoch 80/100\n",
      " - 1s - loss: 0.0349 - acc: 0.9927 - val_loss: 0.0400 - val_acc: 0.9923\n",
      "Epoch 81/100\n",
      " - 1s - loss: 0.0343 - acc: 0.9926 - val_loss: 0.0377 - val_acc: 0.9922\n",
      "Epoch 82/100\n",
      " - 1s - loss: 0.0334 - acc: 0.9928 - val_loss: 0.0371 - val_acc: 0.9925\n",
      "Epoch 83/100\n",
      " - 1s - loss: 0.0328 - acc: 0.9929 - val_loss: 0.0369 - val_acc: 0.9924\n",
      "Epoch 84/100\n",
      " - 1s - loss: 0.0322 - acc: 0.9931 - val_loss: 0.0357 - val_acc: 0.9924\n",
      "Epoch 85/100\n",
      " - 1s - loss: 0.0312 - acc: 0.9930 - val_loss: 0.0347 - val_acc: 0.9922\n",
      "Epoch 86/100\n",
      " - 1s - loss: 0.0306 - acc: 0.9932 - val_loss: 0.0344 - val_acc: 0.9924\n",
      "Epoch 87/100\n",
      " - 1s - loss: 0.0301 - acc: 0.9935 - val_loss: 0.0340 - val_acc: 0.9926\n",
      "Epoch 88/100\n",
      " - 1s - loss: 0.0297 - acc: 0.9936 - val_loss: 0.0338 - val_acc: 0.9924\n",
      "Epoch 89/100\n",
      " - 1s - loss: 0.0290 - acc: 0.9936 - val_loss: 0.0334 - val_acc: 0.9933\n",
      "Epoch 90/100\n",
      " - 1s - loss: 0.0287 - acc: 0.9934 - val_loss: 0.0317 - val_acc: 0.9931\n",
      "Epoch 91/100\n",
      " - 1s - loss: 0.0281 - acc: 0.9937 - val_loss: 0.0314 - val_acc: 0.9926\n",
      "Epoch 92/100\n",
      " - 1s - loss: 0.0276 - acc: 0.9936 - val_loss: 0.0308 - val_acc: 0.9932\n",
      "Epoch 93/100\n",
      " - 1s - loss: 0.0271 - acc: 0.9936 - val_loss: 0.0309 - val_acc: 0.9933\n",
      "Epoch 94/100\n",
      " - 1s - loss: 0.0267 - acc: 0.9938 - val_loss: 0.0296 - val_acc: 0.9933\n",
      "Epoch 95/100\n",
      " - 1s - loss: 0.0263 - acc: 0.9940 - val_loss: 0.0287 - val_acc: 0.9931\n",
      "Epoch 96/100\n",
      " - 1s - loss: 0.0255 - acc: 0.9939 - val_loss: 0.0288 - val_acc: 0.9931\n"
     ]
    },
    {
     "name": "stdout",
     "output_type": "stream",
     "text": [
      "Epoch 97/100\n",
      " - 1s - loss: 0.0251 - acc: 0.9941 - val_loss: 0.0284 - val_acc: 0.9926\n",
      "Epoch 98/100\n",
      " - 1s - loss: 0.0247 - acc: 0.9941 - val_loss: 0.0276 - val_acc: 0.9932\n",
      "Epoch 99/100\n",
      " - 1s - loss: 0.0246 - acc: 0.9940 - val_loss: 0.0276 - val_acc: 0.9931\n",
      "Epoch 100/100\n",
      " - 1s - loss: 0.0254 - acc: 0.9935 - val_loss: 0.0271 - val_acc: 0.9928\n"
     ]
    }
   ],
   "source": [
    "train_history=model.fit(x=x_Train, \n",
    "                        y=y_TrainOneHot,validation_split=0.2, \n",
    "                        epochs=100, batch_size=200,verbose=2)"
   ]
  },
  {
   "cell_type": "code",
   "execution_count": 208,
   "metadata": {},
   "outputs": [],
   "source": [
    "def show_train_history(train_acc,val_acc,y_label):\n",
    "    plt.plot(train_history.history[train_acc])\n",
    "    plt.plot(train_history.history[val_acc])\n",
    "    plt.title('Train History')\n",
    "    plt.ylabel(y_label)\n",
    "    plt.xlabel('Epoch')\n",
    "    plt.legend(['train', 'validation'], loc='upper right')\n",
    "    plt.show()"
   ]
  },
  {
   "cell_type": "code",
   "execution_count": 209,
   "metadata": {},
   "outputs": [],
   "source": [
    "import matplotlib.pyplot as plt"
   ]
  },
  {
   "cell_type": "code",
   "execution_count": 210,
   "metadata": {},
   "outputs": [
    {
     "data": {
      "image/png": "[encoded data removed]",
      "text/plain": [
       "<Figure size 432x288 with 1 Axes>"
      ]
     },
     "metadata": {
      "needs_background": "light"
     },
     "output_type": "display_data"
    }
   ],
   "source": [
    "show_train_history('acc','val_acc','Accuracy')"
   ]
  },
  {
   "cell_type": "code",
   "execution_count": 211,
   "metadata": {
    "scrolled": true
   },
   "outputs": [
    {
     "data": {
      "image/png": "[encoded data removed]",
      "text/plain": [
       "<Figure size 432x288 with 1 Axes>"
      ]
     },
     "metadata": {
      "needs_background": "light"
     },
     "output_type": "display_data"
    }
   ],
   "source": [
    "show_train_history('loss','val_loss','Loss')"
   ]
  },
  {
   "cell_type": "markdown",
   "metadata": {},
   "source": [
    "### Test"
   ]
  },
  {
   "cell_type": "code",
   "execution_count": 194,
   "metadata": {
    "scrolled": true
   },
   "outputs": [
    {
     "name": "stdout",
     "output_type": "stream",
     "text": [
      "10000/10000 [==============================] - 1s 55us/step\n"
     ]
    },
    {
     "data": {
      "text/plain": [
       "0.9949"
      ]
     },
     "execution_count": 194,
     "metadata": {},
     "output_type": "execute_result"
    }
   ],
   "source": [
    "scores = model.evaluate(x_Test, y_TestOneHot)\n",
    "scores[1]"
   ]
  }
 ],
 "metadata": {
  "kernelspec": {
   "display_name": "Python (tensorflow-gpu)",
   "language": "python",
   "name": "tensorflow-gpu"
  },
  "language_info": {
   "codemirror_mode": {
    "name": "ipython",
    "version": 3
   },
   "file_extension": ".py",
   "mimetype": "text/x-python",
   "name": "python",
   "nbconvert_exporter": "python",
   "pygments_lexer": "ipython3",
   "version": "3.6.8"
  }
 },
 "nbformat": 4,
 "nbformat_minor": 2
}
