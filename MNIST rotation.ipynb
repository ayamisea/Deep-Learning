{
 "cells": [
  {
   "cell_type": "markdown",
   "metadata": {},
   "source": [
    "# MNIST 隨機旋轉後分類"
   ]
  },
  {
   "cell_type": "code",
   "execution_count": 195,
   "metadata": {
    "scrolled": true
   },
   "outputs": [],
   "source": [
    "import numpy as np\n",
    "import pandas as pd\n",
    "import keras\n",
    "from keras.utils import np_utils\n",
    "from keras.datasets import mnist\n",
    "import tensorflow as tf\n",
    "\n",
    "config = tf.ConfigProto(gpu_options=tf.GPUOptions(allow_growth=True))\n",
    "sess = tf.Session(config=config)"
   ]
  },
  {
   "cell_type": "code",
   "execution_count": 196,
   "metadata": {},
   "outputs": [],
   "source": [
    "(x_Train,y_Train),(x_Test,y_Test) = keras.datasets.mnist.load_data()"
   ]
  },
  {
   "cell_type": "code",
   "execution_count": 197,
   "metadata": {},
   "outputs": [],
   "source": [
    "import matplotlib.pyplot as plt\n",
    "def plot_image(image):\n",
    "    fig = plt.gcf()\n",
    "    fig.set_size_inches(2,2)\n",
    "    plt.imshow(image , cmap='binary')\n",
    "    plt.show()"
   ]
  },
  {
   "cell_type": "code",
   "execution_count": 198,
   "metadata": {},
   "outputs": [],
   "source": [
    "import argparse\n",
    "import cv2\n",
    "# https://pypi.org/project/opencv-python/\n",
    "\n",
    "def image_rotate(image,angle,center=None,scale=1.0):\n",
    "    # 圖片大小\n",
    "    (h,w)=image.shape[:2]\n",
    "    # 若未指定旋轉中心，就以圖像中心為準\n",
    "    if center is None:\n",
    "        center = (w/2,h/2)\n",
    "    # 旋轉\n",
    "    M = cv2.getRotationMatrix2D(center,angle,scale)\n",
    "    rotated = cv2.warpAffine(image,M,(w,h))\n",
    "    \n",
    "    # 回傳以旋轉之圖像\n",
    "    return rotated"
   ]
  },
  {
   "cell_type": "code",
   "execution_count": 199,
   "metadata": {},
   "outputs": [],
   "source": [
    "# 初始化旋轉圖矩陣\n",
    "x_Train_rotate = np.empty(x_Train.shape)\n",
    "x_Test_rotate = np.empty(x_Test.shape)\n",
    "\n",
    "# 將圖隨機角度旋轉\n",
    "for i in range(0,x_Train.shape[0]):\n",
    "    x_Train_rotate[i]=image_rotate(x_Train[i],np.random.randint(0,360))\n",
    "\n",
    "for i in range(0,x_Test.shape[0]):\n",
    "    x_Test_rotate[i]=image_rotate(x_Test[i],np.random.randint(0,360))\n"
   ]
  },
  {
   "cell_type": "code",
   "execution_count": 217,
   "metadata": {
    "scrolled": true
   },
   "outputs": [
    {
     "name": "stdout",
     "output_type": "stream",
     "text": [
      "旋轉前：\n"
     ]
    },
    {
     "data": {
      "image/png": "[encoded data removed]",
      "text/plain": [
       "<Figure size 144x144 with 1 Axes>"
      ]
     },
     "metadata": {
      "needs_background": "light"
     },
     "output_type": "display_data"
    },
    {
     "name": "stdout",
     "output_type": "stream",
     "text": [
      "旋轉後：\n"
     ]
    },
    {
     "data": {
      "image/png": "[encoded data removed]",
      "text/plain": [
       "<Figure size 144x144 with 1 Axes>"
      ]
     },
     "metadata": {
      "needs_background": "light"
     },
     "output_type": "display_data"
    }
   ],
   "source": [
    "print('旋轉前：')\n",
    "plot_image(x_Train[0])\n",
    "print('旋轉後：')\n",
    "plot_image(x_Train_rotate[0])"
   ]
  },
  {
   "cell_type": "markdown",
   "metadata": {},
   "source": [
    "# CNN"
   ]
  },
  {
   "cell_type": "markdown",
   "metadata": {},
   "source": [
    "### 初始化"
   ]
  },
  {
   "cell_type": "code",
   "execution_count": 208,
   "metadata": {},
   "outputs": [],
   "source": [
    "#多加一顏色維度\n",
    "x_Train4D =x_Train_rotate.reshape(x_Train_rotate.shape[0],28,28,1).astype('float32')\n",
    "x_Test4D =x_Test_rotate.reshape(x_Test_rotate.shape[0],28,28,1).astype('float32')\n",
    "\n",
    "# Normalization\n",
    "x_Train4D = x_Train4D /255\n",
    "x_Test4D = x_Test4D  /255\n",
    "\n",
    "# one hot encoding\n",
    "y_TrainOneHot = np_utils.to_categorical(y_Train)\n",
    "y_TestOneHot = np_utils.to_categorical(y_Test)"
   ]
  },
  {
   "cell_type": "markdown",
   "metadata": {},
   "source": [
    "### Build Model"
   ]
  },
  {
   "cell_type": "code",
   "execution_count": 209,
   "metadata": {},
   "outputs": [],
   "source": [
    "from keras.models import Sequential\n",
    "from keras.layers import Dense, Dropout,Flatten,Conv2D,MaxPooling2D"
   ]
  },
  {
   "cell_type": "code",
   "execution_count": 210,
   "metadata": {
    "scrolled": true
   },
   "outputs": [
    {
     "name": "stdout",
     "output_type": "stream",
     "text": [
      "_________________________________________________________________\n",
      "Layer (type)                 Output Shape              Param #   \n",
      "=================================================================\n",
      "conv2d_5 (Conv2D)            (None, 28, 28, 16)        416       \n",
      "_________________________________________________________________\n",
      "max_pooling2d_5 (MaxPooling2 (None, 14, 14, 16)        0         \n",
      "_________________________________________________________________\n",
      "conv2d_6 (Conv2D)            (None, 14, 14, 36)        14436     \n",
      "_________________________________________________________________\n",
      "max_pooling2d_6 (MaxPooling2 (None, 7, 7, 36)          0         \n",
      "_________________________________________________________________\n",
      "dropout_5 (Dropout)          (None, 7, 7, 36)          0         \n",
      "_________________________________________________________________\n",
      "flatten_3 (Flatten)          (None, 1764)              0         \n",
      "_________________________________________________________________\n",
      "dense_5 (Dense)              (None, 128)               225920    \n",
      "_________________________________________________________________\n",
      "dropout_6 (Dropout)          (None, 128)               0         \n",
      "_________________________________________________________________\n",
      "dense_6 (Dense)              (None, 10)                1290      \n",
      "=================================================================\n",
      "Total params: 242,062\n",
      "Trainable params: 242,062\n",
      "Non-trainable params: 0\n",
      "_________________________________________________________________\n"
     ]
    }
   ],
   "source": [
    "model = Sequential()\n",
    "model.add(Conv2D(filters=16,\n",
    "                kernel_size=(5,5),\n",
    "                padding='same',\n",
    "                input_shape=(28,28,1),\n",
    "                activation = 'relu'\n",
    "               ))\n",
    "model.add(MaxPooling2D(pool_size=(2,2)))\n",
    "model.add(Conv2D(filters=36,\n",
    "                kernel_size=(5,5),\n",
    "                padding='same',\n",
    "                input_shape=(28,28,1),\n",
    "                activation = 'relu'\n",
    "               ))\n",
    "model.add(MaxPooling2D(pool_size=(2,2)))\n",
    "\n",
    "# Drop 掉部分神經元，避免 overfitting\n",
    "model.add(Dropout(rate = 0.25))\n",
    "\n",
    "\n",
    "model.add(Flatten())\n",
    "\n",
    "model.add(Dense(units=128,activation='relu'))\n",
    "model.add(Dropout(rate=0.5))\n",
    "model.add(Dense(units=10,activation='softmax'))\n",
    "\n",
    "model.summary()"
   ]
  },
  {
   "cell_type": "code",
   "execution_count": 211,
   "metadata": {},
   "outputs": [],
   "source": [
    "model.compile(loss = 'categorical_crossentropy',optimizer='adam',metrics=['accuracy'])"
   ]
  },
  {
   "cell_type": "markdown",
   "metadata": {},
   "source": [
    "### Train model"
   ]
  },
  {
   "cell_type": "code",
   "execution_count": 212,
   "metadata": {
    "scrolled": true
   },
   "outputs": [
    {
     "name": "stdout",
     "output_type": "stream",
     "text": [
      "Train on 48000 samples, validate on 12000 samples\n",
      "Epoch 1/50\n",
      " - 7s - loss: 1.1096 - acc: 0.6134 - val_loss: 0.4738 - val_acc: 0.8498\n",
      "Epoch 2/50\n",
      " - 11s - loss: 0.5649 - acc: 0.8124 - val_loss: 0.3384 - val_acc: 0.8896\n",
      "Epoch 3/50\n",
      " - 14s - loss: 0.4498 - acc: 0.8536 - val_loss: 0.2817 - val_acc: 0.9068\n",
      "Epoch 4/50\n",
      " - 14s - loss: 0.3910 - acc: 0.8719 - val_loss: 0.2474 - val_acc: 0.9173\n",
      "Epoch 5/50\n",
      " - 14s - loss: 0.3477 - acc: 0.8858 - val_loss: 0.2313 - val_acc: 0.9225\n",
      "Epoch 6/50\n",
      " - 13s - loss: 0.3235 - acc: 0.8934 - val_loss: 0.2329 - val_acc: 0.9200\n",
      "Epoch 7/50\n",
      " - 13s - loss: 0.3054 - acc: 0.8984 - val_loss: 0.2163 - val_acc: 0.9268\n",
      "Epoch 8/50\n",
      " - 14s - loss: 0.2850 - acc: 0.9049 - val_loss: 0.2062 - val_acc: 0.9295\n",
      "Epoch 9/50\n",
      " - 14s - loss: 0.2722 - acc: 0.9114 - val_loss: 0.1978 - val_acc: 0.9322\n",
      "Epoch 10/50\n",
      " - 14s - loss: 0.2640 - acc: 0.9118 - val_loss: 0.1923 - val_acc: 0.9343\n",
      "Epoch 11/50\n",
      " - 14s - loss: 0.2507 - acc: 0.9141 - val_loss: 0.1989 - val_acc: 0.9307\n",
      "Epoch 12/50\n",
      " - 14s - loss: 0.2465 - acc: 0.9174 - val_loss: 0.1913 - val_acc: 0.9355\n",
      "Epoch 13/50\n",
      " - 13s - loss: 0.2353 - acc: 0.9217 - val_loss: 0.1900 - val_acc: 0.9353\n",
      "Epoch 14/50\n",
      " - 13s - loss: 0.2275 - acc: 0.9231 - val_loss: 0.1866 - val_acc: 0.9373\n",
      "Epoch 15/50\n",
      " - 13s - loss: 0.2206 - acc: 0.9261 - val_loss: 0.1873 - val_acc: 0.9369\n",
      "Epoch 16/50\n",
      " - 13s - loss: 0.2165 - acc: 0.9271 - val_loss: 0.1804 - val_acc: 0.9397\n",
      "Epoch 17/50\n",
      " - 13s - loss: 0.2108 - acc: 0.9274 - val_loss: 0.1825 - val_acc: 0.9394\n",
      "Epoch 18/50\n",
      " - 13s - loss: 0.2055 - acc: 0.9304 - val_loss: 0.1806 - val_acc: 0.9379\n",
      "Epoch 19/50\n",
      " - 14s - loss: 0.2010 - acc: 0.9320 - val_loss: 0.1765 - val_acc: 0.9407\n",
      "Epoch 20/50\n",
      " - 13s - loss: 0.1942 - acc: 0.9327 - val_loss: 0.1738 - val_acc: 0.9410\n",
      "Epoch 21/50\n",
      " - 14s - loss: 0.1917 - acc: 0.9336 - val_loss: 0.1750 - val_acc: 0.9408\n",
      "Epoch 22/50\n",
      " - 14s - loss: 0.1875 - acc: 0.9357 - val_loss: 0.1701 - val_acc: 0.9409\n",
      "Epoch 23/50\n",
      " - 14s - loss: 0.1865 - acc: 0.9357 - val_loss: 0.1728 - val_acc: 0.9429\n",
      "Epoch 24/50\n",
      " - 14s - loss: 0.1836 - acc: 0.9362 - val_loss: 0.1730 - val_acc: 0.9421\n",
      "Epoch 25/50\n",
      " - 14s - loss: 0.1770 - acc: 0.9385 - val_loss: 0.1711 - val_acc: 0.9425\n",
      "Epoch 26/50\n",
      " - 13s - loss: 0.1729 - acc: 0.9394 - val_loss: 0.1662 - val_acc: 0.9453\n",
      "Epoch 27/50\n",
      " - 12s - loss: 0.1753 - acc: 0.9400 - val_loss: 0.1720 - val_acc: 0.9420\n",
      "Epoch 28/50\n",
      " - 12s - loss: 0.1677 - acc: 0.9419 - val_loss: 0.1716 - val_acc: 0.9432\n",
      "Epoch 29/50\n",
      " - 13s - loss: 0.1644 - acc: 0.9423 - val_loss: 0.1700 - val_acc: 0.9445\n",
      "Epoch 30/50\n",
      " - 13s - loss: 0.1634 - acc: 0.9431 - val_loss: 0.1663 - val_acc: 0.9438\n",
      "Epoch 31/50\n",
      " - 13s - loss: 0.1598 - acc: 0.9430 - val_loss: 0.1700 - val_acc: 0.9450\n",
      "Epoch 32/50\n",
      " - 14s - loss: 0.1612 - acc: 0.9434 - val_loss: 0.1736 - val_acc: 0.9427\n",
      "Epoch 33/50\n",
      " - 9s - loss: 0.1583 - acc: 0.9439 - val_loss: 0.1743 - val_acc: 0.9434\n",
      "Epoch 34/50\n",
      " - 6s - loss: 0.1553 - acc: 0.9454 - val_loss: 0.1698 - val_acc: 0.9446\n",
      "Epoch 35/50\n",
      " - 6s - loss: 0.1511 - acc: 0.9467 - val_loss: 0.1677 - val_acc: 0.9460\n",
      "Epoch 36/50\n",
      " - 6s - loss: 0.1527 - acc: 0.9455 - val_loss: 0.1710 - val_acc: 0.9455\n",
      "Epoch 37/50\n",
      " - 6s - loss: 0.1451 - acc: 0.9493 - val_loss: 0.1708 - val_acc: 0.9467\n",
      "Epoch 38/50\n",
      " - 6s - loss: 0.1485 - acc: 0.9468 - val_loss: 0.1688 - val_acc: 0.9469\n",
      "Epoch 39/50\n",
      " - 6s - loss: 0.1480 - acc: 0.9487 - val_loss: 0.1717 - val_acc: 0.9450\n",
      "Epoch 40/50\n",
      " - 6s - loss: 0.1424 - acc: 0.9487 - val_loss: 0.1741 - val_acc: 0.9469\n",
      "Epoch 41/50\n",
      " - 6s - loss: 0.1444 - acc: 0.9488 - val_loss: 0.1744 - val_acc: 0.9442\n",
      "Epoch 42/50\n",
      " - 6s - loss: 0.1375 - acc: 0.9511 - val_loss: 0.1749 - val_acc: 0.9451\n",
      "Epoch 43/50\n",
      " - 6s - loss: 0.1384 - acc: 0.9509 - val_loss: 0.1706 - val_acc: 0.9460\n",
      "Epoch 44/50\n",
      " - 6s - loss: 0.1361 - acc: 0.9516 - val_loss: 0.1715 - val_acc: 0.9469\n",
      "Epoch 45/50\n",
      " - 6s - loss: 0.1373 - acc: 0.9507 - val_loss: 0.1741 - val_acc: 0.9467\n",
      "Epoch 46/50\n",
      " - 6s - loss: 0.1370 - acc: 0.9516 - val_loss: 0.1720 - val_acc: 0.9472\n",
      "Epoch 47/50\n",
      " - 6s - loss: 0.1323 - acc: 0.9529 - val_loss: 0.1768 - val_acc: 0.9459\n",
      "Epoch 48/50\n",
      " - 6s - loss: 0.1319 - acc: 0.9531 - val_loss: 0.1720 - val_acc: 0.9486\n",
      "Epoch 49/50\n",
      " - 6s - loss: 0.1327 - acc: 0.9519 - val_loss: 0.1700 - val_acc: 0.9471\n",
      "Epoch 50/50\n",
      " - 6s - loss: 0.1318 - acc: 0.9522 - val_loss: 0.1754 - val_acc: 0.9471\n"
     ]
    }
   ],
   "source": [
    "train_history=model.fit(x=x_Train4D, \n",
    "                        y=y_TrainOneHot,validation_split=0.2, \n",
    "                        epochs=50, batch_size=200,verbose=2)"
   ]
  },
  {
   "cell_type": "code",
   "execution_count": 230,
   "metadata": {},
   "outputs": [],
   "source": [
    "def show_train_history(train_acc,val_acc,y_label):\n",
    "    plt.plot(train_history.history[train_acc])\n",
    "    plt.plot(train_history.history[val_acc])\n",
    "    plt.title('Train History')\n",
    "    plt.ylabel(y_label)\n",
    "    plt.xlabel('Epoch')\n",
    "    plt.legend(['train', 'validation'], loc='upper right')\n",
    "    plt.show()"
   ]
  },
  {
   "cell_type": "code",
   "execution_count": 231,
   "metadata": {
    "scrolled": true
   },
   "outputs": [
    {
     "data": {
      "image/png": "[encoded data removed]",
      "text/plain": [
       "<Figure size 432x288 with 1 Axes>"
      ]
     },
     "metadata": {
      "needs_background": "light"
     },
     "output_type": "display_data"
    }
   ],
   "source": [
    "show_train_history('acc','val_acc','Accuracy')"
   ]
  },
  {
   "cell_type": "code",
   "execution_count": 232,
   "metadata": {
    "scrolled": true
   },
   "outputs": [
    {
     "data": {
      "image/png": "[encoded data removed]",
      "text/plain": [
       "<Figure size 432x288 with 1 Axes>"
      ]
     },
     "metadata": {
      "needs_background": "light"
     },
     "output_type": "display_data"
    }
   ],
   "source": [
    "show_train_history('loss','val_loss','Loss')"
   ]
  },
  {
   "cell_type": "markdown",
   "metadata": {},
   "source": [
    "### Test"
   ]
  },
  {
   "cell_type": "code",
   "execution_count": 216,
   "metadata": {},
   "outputs": [
    {
     "name": "stdout",
     "output_type": "stream",
     "text": [
      "10000/10000 [==============================] - 4s 357us/step\n"
     ]
    },
    {
     "data": {
      "text/plain": [
       "0.9531"
      ]
     },
     "execution_count": 216,
     "metadata": {},
     "output_type": "execute_result"
    }
   ],
   "source": [
    "scores = model.evaluate(x_Test4D , y_TestOneHot)\n",
    "scores[1]"
   ]
  },
  {
   "cell_type": "code",
   "execution_count": 233,
   "metadata": {},
   "outputs": [
    {
     "data": {
      "text/html": [
       "<div>\n",
       "<style scoped>\n",
       "    .dataframe tbody tr th:only-of-type {\n",
       "        vertical-align: middle;\n",
       "    }\n",
       "\n",
       "    .dataframe tbody tr th {\n",
       "        vertical-align: top;\n",
       "    }\n",
       "\n",
       "    .dataframe thead th {\n",
       "        text-align: right;\n",
       "    }\n",
       "</style>\n",
       "<table border=\"1\" class=\"dataframe\">\n",
       "  <thead>\n",
       "    <tr style=\"text-align: right;\">\n",
       "      <th>predict</th>\n",
       "      <th>0</th>\n",
       "      <th>1</th>\n",
       "      <th>2</th>\n",
       "      <th>3</th>\n",
       "      <th>4</th>\n",
       "      <th>5</th>\n",
       "      <th>6</th>\n",
       "      <th>7</th>\n",
       "      <th>8</th>\n",
       "      <th>9</th>\n",
       "    </tr>\n",
       "    <tr>\n",
       "      <th>label</th>\n",
       "      <th></th>\n",
       "      <th></th>\n",
       "      <th></th>\n",
       "      <th></th>\n",
       "      <th></th>\n",
       "      <th></th>\n",
       "      <th></th>\n",
       "      <th></th>\n",
       "      <th></th>\n",
       "      <th></th>\n",
       "    </tr>\n",
       "  </thead>\n",
       "  <tbody>\n",
       "    <tr>\n",
       "      <th>0</th>\n",
       "      <td>968</td>\n",
       "      <td>0</td>\n",
       "      <td>4</td>\n",
       "      <td>1</td>\n",
       "      <td>0</td>\n",
       "      <td>0</td>\n",
       "      <td>3</td>\n",
       "      <td>0</td>\n",
       "      <td>1</td>\n",
       "      <td>3</td>\n",
       "    </tr>\n",
       "    <tr>\n",
       "      <th>1</th>\n",
       "      <td>0</td>\n",
       "      <td>1124</td>\n",
       "      <td>2</td>\n",
       "      <td>0</td>\n",
       "      <td>3</td>\n",
       "      <td>0</td>\n",
       "      <td>0</td>\n",
       "      <td>4</td>\n",
       "      <td>0</td>\n",
       "      <td>2</td>\n",
       "    </tr>\n",
       "    <tr>\n",
       "      <th>2</th>\n",
       "      <td>2</td>\n",
       "      <td>1</td>\n",
       "      <td>1002</td>\n",
       "      <td>0</td>\n",
       "      <td>3</td>\n",
       "      <td>0</td>\n",
       "      <td>1</td>\n",
       "      <td>21</td>\n",
       "      <td>2</td>\n",
       "      <td>0</td>\n",
       "    </tr>\n",
       "    <tr>\n",
       "      <th>3</th>\n",
       "      <td>0</td>\n",
       "      <td>0</td>\n",
       "      <td>1</td>\n",
       "      <td>994</td>\n",
       "      <td>1</td>\n",
       "      <td>6</td>\n",
       "      <td>4</td>\n",
       "      <td>2</td>\n",
       "      <td>1</td>\n",
       "      <td>1</td>\n",
       "    </tr>\n",
       "    <tr>\n",
       "      <th>4</th>\n",
       "      <td>0</td>\n",
       "      <td>1</td>\n",
       "      <td>1</td>\n",
       "      <td>0</td>\n",
       "      <td>959</td>\n",
       "      <td>3</td>\n",
       "      <td>3</td>\n",
       "      <td>4</td>\n",
       "      <td>3</td>\n",
       "      <td>8</td>\n",
       "    </tr>\n",
       "    <tr>\n",
       "      <th>5</th>\n",
       "      <td>1</td>\n",
       "      <td>0</td>\n",
       "      <td>0</td>\n",
       "      <td>6</td>\n",
       "      <td>7</td>\n",
       "      <td>854</td>\n",
       "      <td>6</td>\n",
       "      <td>5</td>\n",
       "      <td>1</td>\n",
       "      <td>12</td>\n",
       "    </tr>\n",
       "    <tr>\n",
       "      <th>6</th>\n",
       "      <td>3</td>\n",
       "      <td>1</td>\n",
       "      <td>0</td>\n",
       "      <td>2</td>\n",
       "      <td>1</td>\n",
       "      <td>4</td>\n",
       "      <td>848</td>\n",
       "      <td>31</td>\n",
       "      <td>0</td>\n",
       "      <td>68</td>\n",
       "    </tr>\n",
       "    <tr>\n",
       "      <th>7</th>\n",
       "      <td>0</td>\n",
       "      <td>8</td>\n",
       "      <td>15</td>\n",
       "      <td>2</td>\n",
       "      <td>13</td>\n",
       "      <td>1</td>\n",
       "      <td>3</td>\n",
       "      <td>983</td>\n",
       "      <td>1</td>\n",
       "      <td>2</td>\n",
       "    </tr>\n",
       "    <tr>\n",
       "      <th>8</th>\n",
       "      <td>2</td>\n",
       "      <td>1</td>\n",
       "      <td>11</td>\n",
       "      <td>7</td>\n",
       "      <td>8</td>\n",
       "      <td>1</td>\n",
       "      <td>2</td>\n",
       "      <td>1</td>\n",
       "      <td>935</td>\n",
       "      <td>6</td>\n",
       "    </tr>\n",
       "    <tr>\n",
       "      <th>9</th>\n",
       "      <td>3</td>\n",
       "      <td>2</td>\n",
       "      <td>1</td>\n",
       "      <td>5</td>\n",
       "      <td>15</td>\n",
       "      <td>27</td>\n",
       "      <td>81</td>\n",
       "      <td>3</td>\n",
       "      <td>8</td>\n",
       "      <td>864</td>\n",
       "    </tr>\n",
       "  </tbody>\n",
       "</table>\n",
       "</div>"
      ],
      "text/plain": [
       "predict    0     1     2    3    4    5    6    7    8    9\n",
       "label                                                      \n",
       "0        968     0     4    1    0    0    3    0    1    3\n",
       "1          0  1124     2    0    3    0    0    4    0    2\n",
       "2          2     1  1002    0    3    0    1   21    2    0\n",
       "3          0     0     1  994    1    6    4    2    1    1\n",
       "4          0     1     1    0  959    3    3    4    3    8\n",
       "5          1     0     0    6    7  854    6    5    1   12\n",
       "6          3     1     0    2    1    4  848   31    0   68\n",
       "7          0     8    15    2   13    1    3  983    1    2\n",
       "8          2     1    11    7    8    1    2    1  935    6\n",
       "9          3     2     1    5   15   27   81    3    8  864"
      ]
     },
     "execution_count": 233,
     "metadata": {},
     "output_type": "execute_result"
    }
   ],
   "source": [
    "prediction = model.predict_classes(x_Test4D)\n",
    "pd.crosstab(y_Test,prediction,\n",
    "            rownames=['label'],colnames=['predict'])"
   ]
  }
 ],
 "metadata": {
  "kernelspec": {
   "display_name": "Python (tensorflow-gpu)",
   "language": "python",
   "name": "tensorflow-gpu"
  },
  "language_info": {
   "codemirror_mode": {
    "name": "ipython",
    "version": 3
   },
   "file_extension": ".py",
   "mimetype": "text/x-python",
   "name": "python",
   "nbconvert_exporter": "python",
   "pygments_lexer": "ipython3",
   "version": "3.6.8"
  }
 },
 "nbformat": 4,
 "nbformat_minor": 2
}
